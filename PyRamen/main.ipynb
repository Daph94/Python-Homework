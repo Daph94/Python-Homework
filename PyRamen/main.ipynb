{
 "cells": [
  {
   "cell_type": "code",
   "execution_count": 20,
   "metadata": {
    "scrolled": true
   },
   "outputs": [
    {
     "name": "stdout",
     "output_type": "stream",
     "text": [
      "spicy miso ramen {'01-count': 9238, '02-revenue': 110856.0, '03-cogs': 46190.0, '04-profit': 64666.0}\n",
      "tori paitan ramen {'01-count': 9156, '02-revenue': 119028.0, '03-cogs': 54936.0, '04-profit': 64092.0}\n",
      "truffle butter ramen {'01-count': 8982, '02-revenue': 125748.0, '03-cogs': 62874.0, '04-profit': 62874.0}\n",
      "tonkotsu ramen {'01-count': 9288, '02-revenue': 120744.0, '03-cogs': 55728.0, '04-profit': 65016.0}\n",
      "vegetarian spicy miso {'01-count': 9216, '02-revenue': 110592.0, '03-cogs': 46080.0, '04-profit': 64512.0}\n",
      "shio ramen {'01-count': 9180, '02-revenue': 100980.0, '03-cogs': 45900.0, '04-profit': 55080.0}\n",
      "miso crab ramen {'01-count': 8890, '02-revenue': 106680.0, '03-cogs': 53340.0, '04-profit': 53340.0}\n",
      "nagomi shoyu {'01-count': 9132, '02-revenue': 100452.0, '03-cogs': 45660.0, '04-profit': 54792.0}\n",
      "soft-shell miso crab ramen {'01-count': 9130, '02-revenue': 127820.0, '03-cogs': 63910.0, '04-profit': 63910.0}\n",
      "burnt garlic tonkotsu ramen {'01-count': 9070, '02-revenue': 126980.0, '03-cogs': 54420.0, '04-profit': 72560.0}\n",
      "vegetarian curry + king trumpet mushroom ramen {'01-count': 8824, '02-revenue': 114712.0, '03-cogs': 61768.0, '04-profit': 52944.0}\n"
     ]
    }
   ],
   "source": [
    "import csv\n",
    "from pathlib import Path\n",
    "menu_filepath = Path('menu_data.csv')\n",
    "sales_filepath = Path('sales_data.csv')\n",
    "menu = []\n",
    "sales = []\n",
    "\n",
    "with open(menu_filepath, 'r') as file:\n",
    "    csvreader = csv.reader(file, delimiter=',')\n",
    "    csv_header = next(csvreader)\n",
    "    for line in csvreader:\n",
    "        menu.append(line)\n",
    "        price = float(line[3])\n",
    "        cost = float(line[4])        \n",
    "\n",
    "report = {}\n",
    "row_count = 0 \n",
    "\n",
    "with open(sales_filepath, 'r') as file:\n",
    "    csvreader = csv.reader(file, delimiter=',')\n",
    "    csv_header = next(csvreader)\n",
    "    for line in csvreader:\n",
    "        sales.append(line)\n",
    "        report.keys()\n",
    "#         print(report)\n",
    "        \n",
    "        quantity = int(line[3])\n",
    "        sales_item = line[4] \n",
    "        \n",
    "        if sales_item not in report:\n",
    "            report[sales_item]= {\n",
    "                  \"01-count\": 0,\n",
    "                  \"02-revenue\": 0,\n",
    "                   \"03-cogs\": 0,\n",
    "                   \"04-profit\": 0,\n",
    "                      }\n",
    "        \n",
    "    for row_sales in sales:\n",
    "        sales_item = row_sales[4]\n",
    "        quantity = row_sales[3]\n",
    "       \n",
    "        for row_menu in menu:\n",
    "            item = row_menu[0]\n",
    "            price = row_menu[3]\n",
    "            cost = row_menu[4]\n",
    "            \n",
    "            if sales_item == item:\n",
    "                report[sales_item][\"01-count\"] += int(quantity)\n",
    "                report[sales_item][\"02-revenue\"] += float(price) * int(quantity)\n",
    "                report[sales_item][\"03-cogs\"] += float(cost) * int(quantity)\n",
    "                report[sales_item][\"04-profit\"] += (float(price) - float(cost)) * int(quantity)\n",
    "            else:\n",
    "                sales_item != item\n",
    "                continue \n",
    "                 \n",
    "    for x, y in report.items():\n",
    "        print (x,y)              "
   ]
  },
  {
   "cell_type": "code",
   "execution_count": 21,
   "metadata": {},
   "outputs": [],
   "source": [
    "output_path = Path(\"output.txt\")\n",
    "with open(output_path, 'w') as file:\n",
    "    file.write(\"PyRamen\\n\")\n",
    "    for x,y in report.items():\n",
    "        file.write(f\"{x}{y}\\n\")"
   ]
  },
  {
   "cell_type": "code",
   "execution_count": null,
   "metadata": {},
   "outputs": [],
   "source": []
  }
 ],
 "metadata": {
  "kernelspec": {
   "display_name": "Python 3",
   "language": "python",
   "name": "python3"
  },
  "language_info": {
   "codemirror_mode": {
    "name": "ipython",
    "version": 3
   },
   "file_extension": ".py",
   "mimetype": "text/x-python",
   "name": "python",
   "nbconvert_exporter": "python",
   "pygments_lexer": "ipython3",
   "version": "3.7.7"
  }
 },
 "nbformat": 4,
 "nbformat_minor": 4
}
