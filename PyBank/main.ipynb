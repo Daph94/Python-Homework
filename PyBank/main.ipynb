{
 "cells": [
  {
   "cell_type": "code",
   "execution_count": 47,
   "metadata": {},
   "outputs": [],
   "source": [
    "from pathlib import Path\n",
    "import csv\n",
    "csvpath = Path('budget_data.csv')\n",
    "count_month = 0 \n",
    "profit_losses = 0\n",
    "change_in_list = []\n",
    "\n",
    "with open(csvpath, 'r') as file:\n",
    "    csvreader = csv.reader(file, delimiter=',')\n",
    "    csv_header = next(csvreader)\n",
    "    for line in csvreader:\n",
    "        count_month += 1\n",
    "        profit_losses += int(line[1])\n",
    "        change_in_list.append(line)\n",
    "    \n",
    "    change_total = 0\n",
    "    avg_change = 0\n",
    "    greatest_increase = 0\n",
    "    greatest_decrease = 0\n",
    "    \n",
    "    for x in range(count_month -1):\n",
    "        monthly_change = int(change_in_list[x+1][1]) - int(change_in_list[x][1])\n",
    "        change_total += monthly_change\n",
    "        avg_change = round(change_total/(count_month -1), 2)\n",
    "        \n",
    "        if monthly_change > greatest_increase:\n",
    "            increase_date = change_in_list[x+1][0]\n",
    "            greatest_increase = monthly_change        \n",
    "        elif monthly_change < greatest_decrease:\n",
    "            decrease_date = change_in_list[x+1][0]\n",
    "            greatest_decrease = monthly_change"
   ]
  },
  {
   "cell_type": "code",
   "execution_count": 48,
   "metadata": {},
   "outputs": [],
   "source": [
    "output = Path(\"output.txt\")\n",
    "with open(output, 'w') as file:\n",
    "    file.write(\"Financial Analysis\\n\")\n",
    "    file.write(\"----------------------\\n\")\n",
    "    file.write(f\"Total Months: {count_month}\\n\")\n",
    "    file.write(f\"Total: ${profit_losses}\\n\")\n",
    "    file.write(f\"Average Change: ${avg_change}\\n\")\n",
    "    file.write(f\"Greatest Increase in Profits: {increase_date} $({greatest_increase})\\n\")\n",
    "    file.write(f\"Greatest Decrease in Profits: {decrease_date} $({greatest_decrease})\\n\")"
   ]
  },
  {
   "cell_type": "code",
   "execution_count": null,
   "metadata": {},
   "outputs": [],
   "source": []
  }
 ],
 "metadata": {
  "kernelspec": {
   "display_name": "Python 3",
   "language": "python",
   "name": "python3"
  },
  "language_info": {
   "codemirror_mode": {
    "name": "ipython",
    "version": 3
   },
   "file_extension": ".py",
   "mimetype": "text/x-python",
   "name": "python",
   "nbconvert_exporter": "python",
   "pygments_lexer": "ipython3",
   "version": "3.7.7"
  }
 },
 "nbformat": 4,
 "nbformat_minor": 4
}
